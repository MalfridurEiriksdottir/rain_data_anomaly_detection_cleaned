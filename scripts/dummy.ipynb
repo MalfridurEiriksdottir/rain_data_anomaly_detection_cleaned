{
 "cells": [
  {
   "cell_type": "code",
   "execution_count": 1,
   "id": "86d01c44",
   "metadata": {},
   "outputs": [
    {
     "name": "stderr",
     "output_type": "stream",
     "text": [
      "C:\\Users\\malfriduranna.eiriks\\AppData\\Local\\Temp\\ipykernel_18332\\1420072664.py:5: FutureWarning: 'H' is deprecated and will be removed in a future version, please use 'h' instead.\n",
      "  index = pd.date_range(start_time, periods=96, freq='H', name='timestamp')\n"
     ]
    }
   ],
   "source": [
    "import pandas as pd\n",
    "start_time = pd.Timestamp('2024-01-01 00:00:00', tz='UTC')\n",
    "# Use enough periods to cover > 2 batches (e.g., 4 days = 96 hours)\n",
    "# Use hourly frequency for fewer points in dummy data\n",
    "index = pd.date_range(start_time, periods=96, freq='H', name='timestamp')"
   ]
  },
  {
   "cell_type": "code",
   "execution_count": 3,
   "id": "ab55a426",
   "metadata": {},
   "outputs": [],
   "source": [
    "import numpy as np\n",
    "data_a = {\n",
    "    # Use the exact column names expected *after* potential renaming in main script\n",
    "    'Gauge_Data_mm_per_min': np.full(96, 1.0),\n",
    "    'Radar_Data_mm_per_min': np.full(96, 2.0) # Expect Alpha around 0.5 initially\n",
    "}\n",
    "df_a = pd.DataFrame(data_a, index=index)\n",
    "# Save it:\n",
    "df_a.to_pickle(\"test_data/dummy_all_data_pkl/all_data_(1000,5000).pkl\")"
   ]
  },
  {
   "cell_type": "code",
   "execution_count": 4,
   "id": "eba04dd2",
   "metadata": {},
   "outputs": [],
   "source": [
    "gauge_b = np.full(96, 1.5)\n",
    "radar_b = np.full(96, 1.5) # Expect Alpha around 1.0 initially\n",
    "# Introduce a period with potential anomaly (e.g., high diff/ratio)\n",
    "# Let's make gauge drop significantly during second day (hours 24-47)\n",
    "gauge_b[24:48] = 0.1\n",
    "data_b = {\n",
    "    'Gauge_Data_mm_per_min': gauge_b,\n",
    "    'Radar_Data_mm_per_min': radar_b\n",
    "}\n",
    "df_b = pd.DataFrame(data_b, index=index)\n",
    "# Save it:\n",
    "df_b.to_pickle(\"test_data/dummy_all_data_pkl/all_data_(1100,5100).pkl\")"
   ]
  },
  {
   "cell_type": "code",
   "execution_count": 5,
   "id": "dddd280c",
   "metadata": {},
   "outputs": [],
   "source": [
    "data_c = {\n",
    "    'Gauge_Data_mm_per_min': np.zeros(96),\n",
    "    'Radar_Data_mm_per_min': np.zeros(96) # All zero\n",
    "}\n",
    "df_c = pd.DataFrame(data_c, index=index)\n",
    "# Save it:\n",
    "df_c.to_pickle(\"test_data/dummy_all_data_pkl/all_data_(2000,6000).pkl\")"
   ]
  }
 ],
 "metadata": {
  "kernelspec": {
   "display_name": "Python 3",
   "language": "python",
   "name": "python3"
  },
  "language_info": {
   "codemirror_mode": {
    "name": "ipython",
    "version": 3
   },
   "file_extension": ".py",
   "mimetype": "text/x-python",
   "name": "python",
   "nbconvert_exporter": "python",
   "pygments_lexer": "ipython3",
   "version": "3.12.5"
  }
 },
 "nbformat": 4,
 "nbformat_minor": 5
}
